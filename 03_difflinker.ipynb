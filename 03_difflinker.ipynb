{
 "cells": [
  {
   "cell_type": "raw",
   "metadata": {},
   "source": [
    "---\n",
    "title: \"DiffLinker\"\n",
    "subtitle: \"Equivariant 3D-Conditional Diffusion Model for Molecular Linker Design\"\n",
    "format:\n",
    "  html:\n",
    "    code-fold: false\n",
    "---"
   ]
  },
  {
   "cell_type": "code",
   "execution_count": 1,
   "metadata": {},
   "outputs": [
    {
     "name": "stdout",
     "output_type": "stream",
     "text": [
      "Cloning into 'DiffLinker'...\n",
      "remote: Enumerating objects: 185, done.\u001b[K\n",
      "remote: Counting objects: 100% (185/185), done.\u001b[K\n",
      "remote: Compressing objects: 100% (136/136), done.\u001b[K\n",
      "remote: Total 185 (delta 81), reused 139 (delta 44), pack-reused 0\u001b[K\n",
      "Receiving objects: 100% (185/185), 17.92 MiB | 13.56 MiB/s, done.\n",
      "Resolving deltas: 100% (81/81), done.\n",
      "/home/ma/git/computation/DiffLinker\n"
     ]
    }
   ],
   "source": [
    "import os\n",
    "import sys\n",
    "\n",
    "REPO_ADDRESS = \"https://github.com/igashov/DiffLinker.git\"\n",
    "REPO_NAME = \"DiffLinker\"\n",
    "\n",
    "if not os.path.exists(REPO_NAME):\n",
    "    !git clone {REPO_ADDRESS}\n",
    "\n",
    "%cd {REPO_NAME}"
   ]
  },
  {
   "cell_type": "code",
   "execution_count": null,
   "metadata": {},
   "outputs": [],
   "source": []
  }
 ],
 "metadata": {
  "kernelspec": {
   "display_name": "insight",
   "language": "python",
   "name": "python3"
  },
  "language_info": {
   "codemirror_mode": {
    "name": "ipython",
    "version": 3
   },
   "file_extension": ".py",
   "mimetype": "text/x-python",
   "name": "python",
   "nbconvert_exporter": "python",
   "pygments_lexer": "ipython3",
   "version": "3.8.13 | packaged by conda-forge | (default, Mar 25 2022, 06:04:10) \n[GCC 10.3.0]"
  },
  "orig_nbformat": 4,
  "vscode": {
   "interpreter": {
    "hash": "f59c4ca07c2374b44167151294cd9c03bd47ea9c6258365aa14a47b95582240c"
   }
  }
 },
 "nbformat": 4,
 "nbformat_minor": 2
}
