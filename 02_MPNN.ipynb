{
 "cells": [
  {
   "cell_type": "raw",
   "metadata": {},
   "source": [
    "---\n",
    "title: \"ProteinMPNN\"\n",
    "subtitle: \"Robust deep learning based protein sequence design\"\n",
    "format:\n",
    "  html:\n",
    "    code-fold: False\n",
    "---"
   ]
  },
  {
   "cell_type": "code",
   "execution_count": null,
   "metadata": {},
   "outputs": [],
   "source": [
    "import os\n",
    "\n",
    "REPO_ADDRESS = \"https://github.com/dauparas/ProteinMPNN.git\"\n",
    "# Download GitHub repo if not already downloaded\n",
    "if not os.path.exists(\"ProteinMPNN\"):\n",
    "    !git clone $REPO_ADDRESS\n",
    "\n",
    "# Change working directory to repo\n",
    "os.chdir(\"ProteinMPNN\")\n"
   ]
  }
 ],
 "metadata": {
  "kernelspec": {
   "display_name": "torch",
   "language": "python",
   "name": "python3"
  },
  "language_info": {
   "name": "python",
   "version": "3.8.15 | packaged by conda-forge | (default, Nov 22 2022, 08:49:35) \n[GCC 10.4.0]"
  },
  "orig_nbformat": 4,
  "vscode": {
   "interpreter": {
    "hash": "4b8fcd9478f8138cd5cee153c82dd38681a8ef5744468ec3c237d2dd400366a4"
   }
  }
 },
 "nbformat": 4,
 "nbformat_minor": 2
}
