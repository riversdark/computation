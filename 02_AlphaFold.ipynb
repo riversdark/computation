{
 "cells": [
  {
   "cell_type": "raw",
   "metadata": {},
   "source": [
    "---\n",
    "title: \"AlphaFold\"\n",
    "subtitle: \"Protein Structure Prediction using AlphaFold\"\n",
    "format:\n",
    "  html:\n",
    "    code-fold: False\n",
    "---"
   ]
  },
  {
   "attachments": {},
   "cell_type": "markdown",
   "metadata": {},
   "source": [
    "# Download the code"
   ]
  },
  {
   "cell_type": "code",
   "execution_count": 3,
   "metadata": {},
   "outputs": [
    {
     "name": "stdout",
     "output_type": "stream",
     "text": [
      "Cloning into 'alphafold'...\n",
      "remote: Enumerating objects: 682, done.\u001b[K\n",
      "remote: Counting objects: 100% (48/48), done.\u001b[K\n",
      "remote: Compressing objects: 100% (40/40), done.\u001b[K\n",
      "remote: Total 682 (delta 7), reused 27 (delta 5), pack-reused 634\u001b[K\n",
      "Receiving objects: 100% (682/682), 16.04 MiB | 10.73 MiB/s, done.\n",
      "Resolving deltas: 100% (381/381), done.\n",
      "/home/ma/git/computation/alphafold\n",
      "/home/ma/git/computation/alphafold\n"
     ]
    }
   ],
   "source": [
    "import os\n",
    "import sys\n",
    "\n",
    "REPO_ADDRESS = \"https://github.com/deepmind/alphafold.git\"\n",
    "REPO_NAME = \"alphafold\"\n",
    "\n",
    "if not os.path.exists(REPO_NAME):\n",
    "    !git clone {REPO_ADDRESS}\n",
    "\n",
    "%cd {REPO_NAME}\n",
    "\n",
    "# print working directory\n",
    "!pwd"
   ]
  },
  {
   "cell_type": "code",
   "execution_count": null,
   "metadata": {},
   "outputs": [],
   "source": []
  },
  {
   "attachments": {},
   "cell_type": "markdown",
   "metadata": {},
   "source": [
    "# Download the data\n",
    "\n",
    "use the download script provided by DeepMind"
   ]
  },
  {
   "attachments": {},
   "cell_type": "markdown",
   "metadata": {},
   "source": [
    "# Download the model parameters\n",
    "\n",
    "Deepmind updates the model parameters every 6 months. The latest model parameters are available at the following link:\n",
    "\n",
    "https://storage.googleapis.com/alphafold/alphafold_params_2022-12-06.tar"
   ]
  },
  {
   "cell_type": "code",
   "execution_count": 1,
   "metadata": {},
   "outputs": [],
   "source": [
    "PARAMS_ADDRESS = \"https://storage.googleapis.com/alphafold/alphafold_params_2022-12-06.tar\"\n",
    "PARAMS_NAME = \"alphafold_params_2022-12-06.tar\"\n",
    "PARAMS_DIR = \"/mnt/nas/alphafold/alphafold_params_2022-12-06\""
   ]
  },
  {
   "cell_type": "code",
   "execution_count": 2,
   "metadata": {},
   "outputs": [
    {
     "name": "stdout",
     "output_type": "stream",
     "text": [
      "--2023-01-11 13:53:06--  https://storage.googleapis.com/alphafold/alphafold_params_2022-12-06.tar\n",
      "Resolving storage.googleapis.com (storage.googleapis.com)... 172.217.160.112, 142.251.43.16, 172.217.163.48, ...\n",
      "Connecting to storage.googleapis.com (storage.googleapis.com)|172.217.160.112|:443... connected.\n",
      "HTTP request sent, awaiting response... 200 OK\n",
      "Length: 5587968000 (5.2G) [application/x-tar]\n",
      "Saving to: ‘/mnt/nas/alphafold/alphafold_params_2022-12-06/alphafold_params_2022-12-06.tar’\n",
      "\n",
      "alphafold_params_20 100%[===================>]   5.20G  51.9MB/s    in 1m 55s  \n",
      "\n",
      "2023-01-11 13:55:03 (46.2 MB/s) - ‘/mnt/nas/alphafold/alphafold_params_2022-12-06/alphafold_params_2022-12-06.tar’ saved [5587968000/5587968000]\n",
      "\n",
      "params_model_1.npz\n",
      "params_model_2.npz\n",
      "params_model_3.npz\n",
      "params_model_4.npz\n",
      "params_model_5.npz\n",
      "params_model_1_ptm.npz\n",
      "params_model_2_ptm.npz\n",
      "params_model_3_ptm.npz\n",
      "params_model_4_ptm.npz\n",
      "params_model_5_ptm.npz\n",
      "params_model_1_multimer_v3.npz\n",
      "params_model_2_multimer_v3.npz\n",
      "params_model_3_multimer_v3.npz\n",
      "params_model_4_multimer_v3.npz\n",
      "params_model_5_multimer_v3.npz\n",
      "LICENSE\n"
     ]
    }
   ],
   "source": [
    "# download params if not already downloaded, create directory if not already created, including parent directories\n",
    "if not os.path.exists(PARAMS_DIR):\n",
    "    !mkdir -p {PARAMS_DIR}\n",
    "    !wget {PARAMS_ADDRESS} -P {PARAMS_DIR}\n",
    "    !tar -xvf {PARAMS_DIR}/{PARAMS_NAME} -C {PARAMS_DIR}\n",
    "\n"
   ]
  },
  {
   "cell_type": "code",
   "execution_count": null,
   "metadata": {},
   "outputs": [],
   "source": []
  }
 ],
 "metadata": {
  "kernelspec": {
   "display_name": "insight",
   "language": "python",
   "name": "python3"
  },
  "language_info": {
   "codemirror_mode": {
    "name": "ipython",
    "version": 3
   },
   "file_extension": ".py",
   "mimetype": "text/x-python",
   "name": "python",
   "nbconvert_exporter": "python",
   "pygments_lexer": "ipython3",
   "version": "3.8.13 | packaged by conda-forge | (default, Mar 25 2022, 06:04:10) \n[GCC 10.3.0]"
  },
  "orig_nbformat": 4,
  "vscode": {
   "interpreter": {
    "hash": "f59c4ca07c2374b44167151294cd9c03bd47ea9c6258365aa14a47b95582240c"
   }
  }
 },
 "nbformat": 4,
 "nbformat_minor": 2
}
