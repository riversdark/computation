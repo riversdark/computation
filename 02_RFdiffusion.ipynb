{
 "cells": [
  {
   "cell_type": "raw",
   "metadata": {},
   "source": [
    "---\n",
    "title: \"RFdiffusion\"\n",
    "subtitle: \"integrating structure prediction networks and diffusion generative models\"\n",
    "format:\n",
    "  html:\n",
    "    code-fold: False\n",
    "---"
   ]
  },
  {
   "attachments": {},
   "cell_type": "markdown",
   "metadata": {},
   "source": [
    "# Protein monomer design"
   ]
  },
  {
   "attachments": {},
   "cell_type": "markdown",
   "metadata": {},
   "source": [
    "# Protein binder design"
   ]
  },
  {
   "attachments": {},
   "cell_type": "markdown",
   "metadata": {},
   "source": [
    "# Symmetric oligomer design\n",
    "\n",
    "symmetric oligomers can be used to"
   ]
  },
  {
   "attachments": {},
   "cell_type": "markdown",
   "metadata": {},
   "source": [
    "# Enzyme active site scaffolding\n",
    "\n",
    "enzyme active sites are "
   ]
  },
  {
   "attachments": {},
   "cell_type": "markdown",
   "metadata": {},
   "source": [
    "# Symmetric motif scaffolding (e.g. helix, beta sheet) design\n",
    "\n",
    "Symmetric motif scaffolds are designed by specifying the sequence of the motif and the number of repeats. The motif is then repeated in the sequence of the scaffold. The motif is specified by a list of amino acids, where each amino acid is specified by a one-letter code. The number of repeats is specified by an integer. "
   ]
  },
  {
   "cell_type": "code",
   "execution_count": null,
   "metadata": {},
   "outputs": [],
   "source": []
  }
 ],
 "metadata": {
  "kernelspec": {
   "display_name": "insight",
   "language": "python",
   "name": "python3"
  },
  "language_info": {
   "codemirror_mode": {
    "name": "ipython",
    "version": 3
   },
   "file_extension": ".py",
   "mimetype": "text/x-python",
   "name": "python",
   "nbconvert_exporter": "python",
   "pygments_lexer": "ipython3",
   "version": "3.8.13"
  },
  "orig_nbformat": 4,
  "vscode": {
   "interpreter": {
    "hash": "f59c4ca07c2374b44167151294cd9c03bd47ea9c6258365aa14a47b95582240c"
   }
  }
 },
 "nbformat": 4,
 "nbformat_minor": 2
}
