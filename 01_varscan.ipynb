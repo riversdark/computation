{
 "cells": [
  {
   "cell_type": "raw",
   "metadata": {},
   "source": [
    "---\n",
    "title: \"VarScan\"\n",
    "subtitle: \"Variant calling and somatic mutation/CNV detection for next-generation sequencing data\"\n",
    "format:\n",
    "  html:\n",
    "    code-fold: false\n",
    "---\n"
   ]
  },
  {
   "attachments": {},
   "cell_type": "markdown",
   "metadata": {},
   "source": [
    "https://hpc.nih.gov/apps/VarScan.html"
   ]
  }
 ],
 "metadata": {
  "kernelspec": {
   "display_name": "wgs",
   "language": "python",
   "name": "python3"
  },
  "language_info": {
   "name": "python",
   "version": "3.8.15 | packaged by conda-forge | (default, Nov 22 2022, 08:46:39) \n[GCC 10.4.0]"
  },
  "orig_nbformat": 4,
  "vscode": {
   "interpreter": {
    "hash": "a6a4c4a36bd4f243dbd467b7ce4d038fed7bcd3786cb1c40062f0ec34716b793"
   }
  }
 },
 "nbformat": 4,
 "nbformat_minor": 2
}
