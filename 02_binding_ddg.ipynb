{
 "cells": [
  {
   "cell_type": "raw",
   "metadata": {},
   "source": [
    "---\n",
    "title: \"binding_ddG\"\n",
    "subtitle: \"Binding energy upon mutation (ddG) Prediction for protein-protein complexes\"\n",
    "format:\n",
    "  html:\n",
    "    code-fold: False\n",
    "---"
   ]
  },
  {
   "cell_type": "code",
   "execution_count": 1,
   "metadata": {},
   "outputs": [],
   "source": [
    "import os\n",
    "\n",
    "REPO_ADDRESS = \"https://github.com/HeliXonProtein/binding-ddg-predictor.git\"\n",
    "# Download GitHub repo if not already downloaded\n",
    "if not os.path.exists(\"binding-ddg-predictor\"):\n",
    "    !git clone $REPO_ADDRESS\n",
    "\n",
    "# Change working directory to repo\n",
    "os.chdir(\"binding-ddg-predictor\")\n"
   ]
  },
  {
   "cell_type": "code",
   "execution_count": 2,
   "metadata": {},
   "outputs": [],
   "source": [
    "# suppress warnings\n",
    "import warnings\n",
    "warnings.filterwarnings('ignore')\n",
    "\n"
   ]
  },
  {
   "cell_type": "code",
   "execution_count": 3,
   "metadata": {},
   "outputs": [],
   "source": [
    "MUT_PROTEIN = \"data/example_mut.pdb\"\n",
    "WT_PROTEIN = \"data/example_wt.pdb\""
   ]
  },
  {
   "cell_type": "code",
   "execution_count": 4,
   "metadata": {},
   "outputs": [
    {
     "name": "stdout",
     "output_type": "stream",
     "text": [
      "A 214\n",
      "B 214\n",
      "C 200\n",
      "A 214\n",
      "B 214\n",
      "C 200\n"
     ]
    }
   ],
   "source": [
    "# show the protein chains and number of amino acids\n",
    "def show_protein(protein):\n",
    "    from Bio.PDB import PDBParser\n",
    "\n",
    "    parser = PDBParser()\n",
    "    structure = parser.get_structure(\"protein\", protein)\n",
    "    for model in structure:\n",
    "        for chain in model:\n",
    "            print(chain.id, len(chain))\n",
    "\n",
    "show_protein(MUT_PROTEIN)\n",
    "show_protein(WT_PROTEIN)"
   ]
  },
  {
   "cell_type": "code",
   "execution_count": 5,
   "metadata": {},
   "outputs": [
    {
     "name": "stdout",
     "output_type": "stream",
     "text": [
      "Mutated protein sequence:  DIKMTQSPSSMYASLGERVTITCKASQDIRKYLNWYQQKPWKSPKTLIYYATSLADGVPSRFSGSGSGQDYSLTISSLESDDTATYYCLQHGESPYTFGGGTKLEINRADAAPTVSIFPPSSEQLTSGGASVVCFLNNFYPKDINVKWKIDGSERQNGVLNSWTDQDSKDSTYSMSSTLTLTKDEYERHNSYTCEATHKTSTSPIVKSFNRNEC\n",
      "Wild type protein sequence:  DIKMTQSPSSMYASLGERVTITCKASQDIRKYLNWYQQKPWKSPKTLIYYATSLADGVPSRFSGSGSGQDYSLTISSLESDDTATYYCLQHGESPYTFGGGTKLEINRADAAPTVSIFPPSSEQLTSGGASVVCFLNNFYPKDINVKWKIDGSERQNGVLNSWTDQDSKDSTYSMSSTLTLTKDEYERHNSYTCEATHKTSTSPIVKSFNRNEC\n"
     ]
    }
   ],
   "source": [
    "\n",
    "# Get Amino Acid sequence from PDB file\n",
    "def get_sequence(pdb_file, chain=\"A\"):\n",
    "    from Bio.PDB import PDBParser, PPBuilder\n",
    "\n",
    "    parser = PDBParser()\n",
    "    structure = parser.get_structure(\"protein\", pdb_file)\n",
    "    ppb = PPBuilder()\n",
    "    for pp in ppb.build_peptides(structure[0][chain]):\n",
    "        return pp.get_sequence()\n",
    "\n",
    "# Get sequence of mutated protein\n",
    "mut_seq = get_sequence(MUT_PROTEIN)\n",
    "# Get sequence of wild type protein\n",
    "wt_seq = get_sequence(WT_PROTEIN)\n",
    "\n",
    "# Show sequences\n",
    "print(\"Mutated protein sequence: \", mut_seq)\n",
    "print(\"Wild type protein sequence: \", wt_seq)"
   ]
  },
  {
   "cell_type": "code",
   "execution_count": 6,
   "metadata": {},
   "outputs": [],
   "source": [
    "# Show difference between sequences\n",
    "def show_aa_diff(seq1, seq2):\n",
    "    for i in range(len(seq1)):\n",
    "        if seq1[i] != seq2[i]:\n",
    "            print(f\"Position {i+1}: {seq1[i]} -> {seq2[i]}\")\n"
   ]
  },
  {
   "cell_type": "code",
   "execution_count": 7,
   "metadata": {},
   "outputs": [
    {
     "name": "stdout",
     "output_type": "stream",
     "text": [
      "Position 3: C -> E\n",
      "Position 4: D -> F\n"
     ]
    }
   ],
   "source": [
    "seq1 = \"ABCD\"\n",
    "seq2 = \"ABEF\"\n",
    "show_aa_diff(seq1, seq2)"
   ]
  },
  {
   "cell_type": "code",
   "execution_count": 8,
   "metadata": {},
   "outputs": [
    {
     "name": "stdout",
     "output_type": "stream",
     "text": [
      "Chain A:\n",
      "Chain B:\n",
      "Chain C:\n"
     ]
    }
   ],
   "source": [
    "\n",
    "# loop through the peptide chains to find the mutations\n",
    "for chain in \"ABC\":\n",
    "    print(f\"Chain {chain}:\")\n",
    "    show_aa_diff(get_sequence(MUT_PROTEIN, chain), get_sequence(WT_PROTEIN, chain))\n"
   ]
  },
  {
   "cell_type": "code",
   "execution_count": 9,
   "metadata": {},
   "outputs": [
    {
     "name": "stdout",
     "output_type": "stream",
     "text": [
      "Predicted ddG: -0.30\n"
     ]
    }
   ],
   "source": [
    "# compute the ddG\n",
    "!python scripts/predict.py $WT_PROTEIN $MUT_PROTEIN"
   ]
  },
  {
   "cell_type": "code",
   "execution_count": null,
   "metadata": {},
   "outputs": [],
   "source": []
  }
 ],
 "metadata": {
  "kernelspec": {
   "display_name": "insight",
   "language": "python",
   "name": "python3"
  },
  "language_info": {
   "codemirror_mode": {
    "name": "ipython",
    "version": 3
   },
   "file_extension": ".py",
   "mimetype": "text/x-python",
   "name": "python",
   "nbconvert_exporter": "python",
   "pygments_lexer": "ipython3",
   "version": "3.8.13 | packaged by conda-forge | (default, Mar 25 2022, 06:04:10) \n[GCC 10.3.0]"
  },
  "orig_nbformat": 4,
  "vscode": {
   "interpreter": {
    "hash": "f59c4ca07c2374b44167151294cd9c03bd47ea9c6258365aa14a47b95582240c"
   }
  }
 },
 "nbformat": 4,
 "nbformat_minor": 2
}
