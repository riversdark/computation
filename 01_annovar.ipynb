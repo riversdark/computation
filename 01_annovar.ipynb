{
 "cells": [
  {
   "cell_type": "raw",
   "metadata": {},
   "source": [
    "---\n",
    "title: \"ANNOVAR\"\n",
    "subtitle: \"Functional Annotation of Genetic Variants from High-Throughput Sequencing Data\"\n",
    "format:\n",
    "  html:\n",
    "    code-fold: false\n",
    "---"
   ]
  },
  {
   "cell_type": "code",
   "execution_count": 1,
   "metadata": {},
   "outputs": [],
   "source": [
    "import pandas as pd\n",
    "import os"
   ]
  },
  {
   "attachments": {},
   "cell_type": "markdown",
   "metadata": {},
   "source": [
    "## ANNOVAR configuration"
   ]
  },
  {
   "cell_type": "code",
   "execution_count": 2,
   "metadata": {},
   "outputs": [],
   "source": [
    "ANNOVAR_GZ = \"/home/ma/Downloads/annovar.latest.tar.gz\"\n",
    "PARENT_DIR = \"/home/ma/Downloads\"\n",
    "\n",
    "# Extract the annovar files if they are not already extracted\n",
    "if not os.path.exists(os.path.join(PARENT_DIR, \"annovar\")):\n",
    "    !tar -xzf {ANNOVAR_GZ} -C {PARENT_DIR}"
   ]
  },
  {
   "cell_type": "code",
   "execution_count": 3,
   "metadata": {},
   "outputs": [
    {
     "name": "stdout",
     "output_type": "stream",
     "text": [
      "annotate_variation.pl  example\t\t\t   table_annovar.pl\n",
      "coding_change.pl       humandb\t\t\t   variants_reduction.pl\n",
      "convert2annovar.pl     retrieve_seq_from_fasta.pl\n"
     ]
    }
   ],
   "source": [
    "# Path to the directory containing the unpacked ANNOVAR files\n",
    "ANNOVAR_DIR = PARENT_DIR + \"/annovar\"\n",
    "\n",
    "# show the contents of the directory\n",
    "!ls $ANNOVAR_DIR"
   ]
  },
  {
   "cell_type": "code",
   "execution_count": 4,
   "metadata": {},
   "outputs": [
    {
     "name": "stdout",
     "output_type": "stream",
     "text": [
      "ex1.avinput\t       example.tab_region  grantham.matrix\n",
      "ex2.vcf\t\t       gene_fullxref.txt   README\n",
      "example.simple_region  gene_xref.txt\t   snplist.txt\n"
     ]
    }
   ],
   "source": [
    "# show the example files\n",
    "!ls $ANNOVAR_DIR/example"
   ]
  },
  {
   "cell_type": "code",
   "execution_count": 5,
   "metadata": {},
   "outputs": [
    {
     "name": "stdout",
     "output_type": "stream",
     "text": [
      "1\t948921\t948921\tT\tC\tcomments: rs15842, a SNP in 5' UTR of ISG15\n",
      "1\t1404001\t1404001\tG\tT\tcomments: rs149123833, a SNP in 3' UTR of ATAD3C\n",
      "1\t5935162\t5935162\tA\tT\tcomments: rs1287637, a splice site variant in NPHP4\n",
      "1\t162736463\t162736463\tC\tT\tcomments: rs1000050, a SNP in Illumina SNP arrays\n",
      "1\t84875173\t84875173\tC\tT\tcomments: rs6576700 or SNP_A-1780419, a SNP in Affymetrix SNP arrays\n",
      "1\t13211293\t13211294\tTC\t-\tcomments: rs59770105, a 2-bp deletion\n",
      "1\t11403596\t11403596\t-\tAT\tcomments: rs35561142, a 2-bp insertion\n",
      "1\t105492231\t105492231\tA\tATAAA\tcomments: rs10552169, a block substitution\n",
      "1\t67705958\t67705958\tG\tA\tcomments: rs11209026 (R381Q), a SNP in IL23R associated with Crohn's disease\n",
      "2\t234183368\t234183368\tA\tG\tcomments: rs2241880 (T300A), a SNP in the ATG16L1 associated with Crohn's disease\n"
     ]
    }
   ],
   "source": [
    "# show the first 10 lines of the example avinput file\n",
    "!head -n 10 $ANNOVAR_DIR/example/ex1.avinput"
   ]
  },
  {
   "cell_type": "code",
   "execution_count": 6,
   "metadata": {},
   "outputs": [
    {
     "name": "stdout",
     "output_type": "stream",
     "text": [
      "16\t50756540\t50756540\tG\tC\tcomments: rs2066845 (G908R), a non-synonymous SNP in NOD2\n",
      "16\t50763778\t50763778\t-\tC\tcomments: rs2066847 (c.3016_3017insC), a frameshift SNP in NOD2\n",
      "13\t20763686\t20763686\tG\t-\tcomments: rs1801002 (del35G), a frameshift mutation in GJB2, associated with hearing loss\n",
      "13\t20797176\t21105944\t0\t-\tcomments: a 342kb deletion encompassing GJB6, associated with hearing loss\n",
      "8\t8887543\t8887543\tA\tT\tcomments: a mutation that abolishes stop codon\n",
      "8       8887539 8887539 A       T\tcomments: a mutation that results in premature stop codon\n",
      "8       8887536 8887537 AG      GATT\tcomments: a mutation that creates a stop codon 2 amino acids downstream\n",
      "8       8887540 8887540 G       GGAA\tcomments: a mutation that results in insertion of a new amino acid\n",
      "5       1295288 1295288 G       A\tcomments: a variant upstream of transcriptional start site\n",
      "chr14   95602958        95602958        A       C\tcomments: a variant that affects splicing of UTR regions\n"
     ]
    }
   ],
   "source": [
    "# show the last 10 lines of the example avinput file\n",
    "!tail -n 10 $ANNOVAR_DIR/example/ex1.avinput"
   ]
  },
  {
   "attachments": {},
   "cell_type": "markdown",
   "metadata": {},
   "source": [
    "we can see that the input file has exceptions to its input fields"
   ]
  },
  {
   "attachments": {},
   "cell_type": "markdown",
   "metadata": {},
   "source": [
    "## Prepare input files"
   ]
  },
  {
   "attachments": {},
   "cell_type": "markdown",
   "metadata": {},
   "source": [
    "We parse the TSV file to create a new file with the correct input fields"
   ]
  },
  {
   "attachments": {},
   "cell_type": "markdown",
   "metadata": {},
   "source": [
    "Ultimately we aim to use the output gathered from Clara Parabricks as input."
   ]
  },
  {
   "cell_type": "code",
   "execution_count": 7,
   "metadata": {},
   "outputs": [],
   "source": [
    "TSV_FILE = \"/mnt/nas/wgs/geneseeq/BX231U0168/BX231U0168-WGS-R1_sorted_dedup_recal_filtered_snps_indels_funcotated_PASS.tsv\"\n",
    "AVINPUT_FILE = \"/mnt/nas/wgs/geneseeq/BX231U0168/av.avinput\""
   ]
  },
  {
   "cell_type": "code",
   "execution_count": 8,
   "metadata": {},
   "outputs": [
    {
     "name": "stdout",
     "output_type": "stream",
     "text": [
      "CHROM\tPOS\tREF\tALT\tQUAL\tFILTER\tDP\tAF\tAC\tAN\tBaseQRankSum\tClippingRankSum\tDP\tExcessHet\tFS\tInbreedingCoeff\tMQ\tMQRankSum\tQD\tReadPosRankSum\tSOR\tFuncotator\n",
      "chr1\t15903\tG\tGC\t93.79999999999998\tPASS\t3\t1.00\t2\t2\tNA\tNA\t3\t0.0000\t0.000\tNA\t33.67\tNA\t31.27\tNA\t2.833\tNA\n",
      "chr1\t16288\tC\tG\t214.64\tPASS\t45\t0.500\t1\t2\t3.169\tNA\t45\t0.0000\t18.138\tNA\t40.84\t-3.491\t4.77\t0.990\t3.767\tNA\n",
      "chr1\t16298\tC\tT\t555.64\tPASS\t42\t0.500\t1\t2\t5.014\tNA\t42\t0.0000\t17.101\tNA\t40.19\t-4.452\t14.25\t0.846\t2.809\tNA\n",
      "chr1\t17365\tC\tG\t100.64\tPASS\t22\t0.500\t1\t2\t-0.663\tNA\t22\t0.0000\t2.611\tNA\t40.67\t-0.588\t4.57\t-0.314\t0.119\tNA\n",
      "chr1\t17614\tG\tA\t364.64\tPASS\t36\t0.500\t1\t2\t1.182\tNA\t36\t0.0000\t0.000\tNA\t43.08\t-0.021\t11.05\t0.219\t0.420\tNA\n",
      "chr1\t20316\tGA\tG\t214.60000000000002\tPASS\t28\t0.500\t1\t2\t-0.436\tNA\t28\t0.0000\t6.779\tNA\t29.57\t-0.092\t8.94\t0.806\t2.067\tNA\n",
      "chr1\t49298\tT\tC\t985.06\tPASS\t31\t1.00\t2\t2\tNA\tNA\t31\t0.0000\t0.000\tNA\t44.64\tNA\t31.78\tNA\t0.756\tNA\n",
      "chr1\t51803\tT\tC\t741.64\tPASS\t37\t0.500\t1\t2\t-3.253\tNA\t37\t0.0000\t18.711\tNA\t44.59\t-0.847\t21.19\t0.472\t1.032\tNA\n",
      "chr1\t51898\tC\tA\t115.64\tPASS\t40\t0.500\t1\t2\t-0.955\tNA\t40\t0.0000\t6.647\tNA\t56.47\t-4.995\t3.13\t-0.535\t2.235\tNA\n"
     ]
    }
   ],
   "source": [
    "# show the first 10 lines of the TSV file\n",
    "!head -n 10 $TSV_FILE"
   ]
  },
  {
   "cell_type": "code",
   "execution_count": 9,
   "metadata": {},
   "outputs": [
    {
     "data": {
      "text/html": [
       "<div>\n",
       "<style scoped>\n",
       "    .dataframe tbody tr th:only-of-type {\n",
       "        vertical-align: middle;\n",
       "    }\n",
       "\n",
       "    .dataframe tbody tr th {\n",
       "        vertical-align: top;\n",
       "    }\n",
       "\n",
       "    .dataframe thead th {\n",
       "        text-align: right;\n",
       "    }\n",
       "</style>\n",
       "<table border=\"1\" class=\"dataframe\">\n",
       "  <thead>\n",
       "    <tr style=\"text-align: right;\">\n",
       "      <th></th>\n",
       "      <th>CHROM</th>\n",
       "      <th>POS</th>\n",
       "      <th>REF</th>\n",
       "      <th>ALT</th>\n",
       "      <th>QUAL</th>\n",
       "      <th>FILTER</th>\n",
       "      <th>DP</th>\n",
       "      <th>AF</th>\n",
       "      <th>AC</th>\n",
       "      <th>AN</th>\n",
       "      <th>...</th>\n",
       "      <th>DP.1</th>\n",
       "      <th>ExcessHet</th>\n",
       "      <th>FS</th>\n",
       "      <th>InbreedingCoeff</th>\n",
       "      <th>MQ</th>\n",
       "      <th>MQRankSum</th>\n",
       "      <th>QD</th>\n",
       "      <th>ReadPosRankSum</th>\n",
       "      <th>SOR</th>\n",
       "      <th>Funcotator</th>\n",
       "    </tr>\n",
       "  </thead>\n",
       "  <tbody>\n",
       "    <tr>\n",
       "      <th>0</th>\n",
       "      <td>chr1</td>\n",
       "      <td>15903</td>\n",
       "      <td>G</td>\n",
       "      <td>GC</td>\n",
       "      <td>93.80</td>\n",
       "      <td>PASS</td>\n",
       "      <td>3</td>\n",
       "      <td>1.00</td>\n",
       "      <td>2</td>\n",
       "      <td>2</td>\n",
       "      <td>...</td>\n",
       "      <td>3</td>\n",
       "      <td>0.0</td>\n",
       "      <td>0.000</td>\n",
       "      <td>NaN</td>\n",
       "      <td>33.67</td>\n",
       "      <td>NaN</td>\n",
       "      <td>31.27</td>\n",
       "      <td>NaN</td>\n",
       "      <td>2.833</td>\n",
       "      <td>NaN</td>\n",
       "    </tr>\n",
       "    <tr>\n",
       "      <th>1</th>\n",
       "      <td>chr1</td>\n",
       "      <td>16288</td>\n",
       "      <td>C</td>\n",
       "      <td>G</td>\n",
       "      <td>214.64</td>\n",
       "      <td>PASS</td>\n",
       "      <td>45</td>\n",
       "      <td>0.500</td>\n",
       "      <td>1</td>\n",
       "      <td>2</td>\n",
       "      <td>...</td>\n",
       "      <td>45</td>\n",
       "      <td>0.0</td>\n",
       "      <td>18.138</td>\n",
       "      <td>NaN</td>\n",
       "      <td>40.84</td>\n",
       "      <td>-3.491</td>\n",
       "      <td>4.77</td>\n",
       "      <td>0.990</td>\n",
       "      <td>3.767</td>\n",
       "      <td>NaN</td>\n",
       "    </tr>\n",
       "    <tr>\n",
       "      <th>2</th>\n",
       "      <td>chr1</td>\n",
       "      <td>16298</td>\n",
       "      <td>C</td>\n",
       "      <td>T</td>\n",
       "      <td>555.64</td>\n",
       "      <td>PASS</td>\n",
       "      <td>42</td>\n",
       "      <td>0.500</td>\n",
       "      <td>1</td>\n",
       "      <td>2</td>\n",
       "      <td>...</td>\n",
       "      <td>42</td>\n",
       "      <td>0.0</td>\n",
       "      <td>17.101</td>\n",
       "      <td>NaN</td>\n",
       "      <td>40.19</td>\n",
       "      <td>-4.452</td>\n",
       "      <td>14.25</td>\n",
       "      <td>0.846</td>\n",
       "      <td>2.809</td>\n",
       "      <td>NaN</td>\n",
       "    </tr>\n",
       "    <tr>\n",
       "      <th>3</th>\n",
       "      <td>chr1</td>\n",
       "      <td>17365</td>\n",
       "      <td>C</td>\n",
       "      <td>G</td>\n",
       "      <td>100.64</td>\n",
       "      <td>PASS</td>\n",
       "      <td>22</td>\n",
       "      <td>0.500</td>\n",
       "      <td>1</td>\n",
       "      <td>2</td>\n",
       "      <td>...</td>\n",
       "      <td>22</td>\n",
       "      <td>0.0</td>\n",
       "      <td>2.611</td>\n",
       "      <td>NaN</td>\n",
       "      <td>40.67</td>\n",
       "      <td>-0.588</td>\n",
       "      <td>4.57</td>\n",
       "      <td>-0.314</td>\n",
       "      <td>0.119</td>\n",
       "      <td>NaN</td>\n",
       "    </tr>\n",
       "    <tr>\n",
       "      <th>4</th>\n",
       "      <td>chr1</td>\n",
       "      <td>17614</td>\n",
       "      <td>G</td>\n",
       "      <td>A</td>\n",
       "      <td>364.64</td>\n",
       "      <td>PASS</td>\n",
       "      <td>36</td>\n",
       "      <td>0.500</td>\n",
       "      <td>1</td>\n",
       "      <td>2</td>\n",
       "      <td>...</td>\n",
       "      <td>36</td>\n",
       "      <td>0.0</td>\n",
       "      <td>0.000</td>\n",
       "      <td>NaN</td>\n",
       "      <td>43.08</td>\n",
       "      <td>-0.021</td>\n",
       "      <td>11.05</td>\n",
       "      <td>0.219</td>\n",
       "      <td>0.420</td>\n",
       "      <td>NaN</td>\n",
       "    </tr>\n",
       "  </tbody>\n",
       "</table>\n",
       "<p>5 rows × 22 columns</p>\n",
       "</div>"
      ],
      "text/plain": [
       "  CHROM    POS REF ALT    QUAL FILTER  DP     AF AC  AN  ...  DP.1  ExcessHet  \\\n",
       "0  chr1  15903   G  GC   93.80   PASS   3   1.00  2   2  ...     3        0.0   \n",
       "1  chr1  16288   C   G  214.64   PASS  45  0.500  1   2  ...    45        0.0   \n",
       "2  chr1  16298   C   T  555.64   PASS  42  0.500  1   2  ...    42        0.0   \n",
       "3  chr1  17365   C   G  100.64   PASS  22  0.500  1   2  ...    22        0.0   \n",
       "4  chr1  17614   G   A  364.64   PASS  36  0.500  1   2  ...    36        0.0   \n",
       "\n",
       "       FS  InbreedingCoeff     MQ  MQRankSum     QD  ReadPosRankSum    SOR  \\\n",
       "0   0.000              NaN  33.67        NaN  31.27             NaN  2.833   \n",
       "1  18.138              NaN  40.84     -3.491   4.77           0.990  3.767   \n",
       "2  17.101              NaN  40.19     -4.452  14.25           0.846  2.809   \n",
       "3   2.611              NaN  40.67     -0.588   4.57          -0.314  0.119   \n",
       "4   0.000              NaN  43.08     -0.021  11.05           0.219  0.420   \n",
       "\n",
       "   Funcotator  \n",
       "0         NaN  \n",
       "1         NaN  \n",
       "2         NaN  \n",
       "3         NaN  \n",
       "4         NaN  \n",
       "\n",
       "[5 rows x 22 columns]"
      ]
     },
     "execution_count": 9,
     "metadata": {},
     "output_type": "execute_result"
    }
   ],
   "source": [
    "# read the TSV file into a pandas dataframe\n",
    "df = pd.read_csv(TSV_FILE, sep=\"\\t\")\n",
    "df.head()"
   ]
  },
  {
   "cell_type": "code",
   "execution_count": 10,
   "metadata": {},
   "outputs": [
    {
     "data": {
      "text/html": [
       "<div>\n",
       "<style scoped>\n",
       "    .dataframe tbody tr th:only-of-type {\n",
       "        vertical-align: middle;\n",
       "    }\n",
       "\n",
       "    .dataframe tbody tr th {\n",
       "        vertical-align: top;\n",
       "    }\n",
       "\n",
       "    .dataframe thead th {\n",
       "        text-align: right;\n",
       "    }\n",
       "</style>\n",
       "<table border=\"1\" class=\"dataframe\">\n",
       "  <thead>\n",
       "    <tr style=\"text-align: right;\">\n",
       "      <th></th>\n",
       "      <th>CHROM</th>\n",
       "      <th>POS</th>\n",
       "      <th>REF</th>\n",
       "      <th>ALT</th>\n",
       "    </tr>\n",
       "  </thead>\n",
       "  <tbody>\n",
       "    <tr>\n",
       "      <th>0</th>\n",
       "      <td>chr1</td>\n",
       "      <td>15903</td>\n",
       "      <td>G</td>\n",
       "      <td>GC</td>\n",
       "    </tr>\n",
       "    <tr>\n",
       "      <th>1</th>\n",
       "      <td>chr1</td>\n",
       "      <td>16288</td>\n",
       "      <td>C</td>\n",
       "      <td>G</td>\n",
       "    </tr>\n",
       "    <tr>\n",
       "      <th>2</th>\n",
       "      <td>chr1</td>\n",
       "      <td>16298</td>\n",
       "      <td>C</td>\n",
       "      <td>T</td>\n",
       "    </tr>\n",
       "    <tr>\n",
       "      <th>3</th>\n",
       "      <td>chr1</td>\n",
       "      <td>17365</td>\n",
       "      <td>C</td>\n",
       "      <td>G</td>\n",
       "    </tr>\n",
       "    <tr>\n",
       "      <th>4</th>\n",
       "      <td>chr1</td>\n",
       "      <td>17614</td>\n",
       "      <td>G</td>\n",
       "      <td>A</td>\n",
       "    </tr>\n",
       "  </tbody>\n",
       "</table>\n",
       "</div>"
      ],
      "text/plain": [
       "  CHROM    POS REF ALT\n",
       "0  chr1  15903   G  GC\n",
       "1  chr1  16288   C   G\n",
       "2  chr1  16298   C   T\n",
       "3  chr1  17365   C   G\n",
       "4  chr1  17614   G   A"
      ]
     },
     "execution_count": 10,
     "metadata": {},
     "output_type": "execute_result"
    }
   ],
   "source": [
    "columns = [\"CHROM\", \"POS\", \"REF\", \"ALT\"]\n",
    "\n",
    "# create a new dataframe with only the columns we need\n",
    "df = df[columns]\n",
    "df.head()"
   ]
  },
  {
   "attachments": {},
   "cell_type": "markdown",
   "metadata": {},
   "source": [
    "however the CHROM field is not in the correct format"
   ]
  },
  {
   "cell_type": "code",
   "execution_count": 11,
   "metadata": {},
   "outputs": [
    {
     "data": {
      "text/plain": [
       "array(['chr1', 'chr10', 'chr11', 'chr11_KI270721v1_random', 'chr12',\n",
       "       'chr13', 'chr14', 'chr14_GL000009v2_random',\n",
       "       'chr14_GL000225v1_random', 'chr14_KI270722v1_random',\n",
       "       'chr14_GL000194v1_random', 'chr14_KI270723v1_random',\n",
       "       'chr14_KI270724v1_random', 'chr14_KI270725v1_random',\n",
       "       'chr14_KI270726v1_random', 'chr15', 'chr16',\n",
       "       'chr16_KI270728v1_random', 'chr17', 'chr17_GL000205v2_random',\n",
       "       'chr17_KI270729v1_random', 'chr17_KI270730v1_random', 'chr18',\n",
       "       'chr19', 'chr1_KI270706v1_random', 'chr1_KI270707v1_random',\n",
       "       'chr1_KI270708v1_random', 'chr1_KI270709v1_random',\n",
       "       'chr1_KI270710v1_random', 'chr1_KI270711v1_random',\n",
       "       'chr1_KI270712v1_random', 'chr1_KI270713v1_random',\n",
       "       'chr1_KI270714v1_random', 'chr2', 'chr20', 'chr21', 'chr22',\n",
       "       'chr22_KI270731v1_random', 'chr22_KI270732v1_random',\n",
       "       'chr22_KI270733v1_random', 'chr22_KI270734v1_random',\n",
       "       'chr22_KI270735v1_random', 'chr22_KI270736v1_random',\n",
       "       'chr22_KI270737v1_random', 'chr22_KI270738v1_random',\n",
       "       'chr22_KI270739v1_random', 'chr2_KI270715v1_random',\n",
       "       'chr2_KI270716v1_random', 'chr3'], dtype=object)"
      ]
     },
     "execution_count": 11,
     "metadata": {},
     "output_type": "execute_result"
    }
   ],
   "source": [
    "# show the unique chromosomes\n",
    "df[\"CHROM\"].unique()"
   ]
  },
  {
   "cell_type": "code",
   "execution_count": 12,
   "metadata": {},
   "outputs": [],
   "source": [
    "# keep only the integer part of the CHROM column following the \"chr\" prefix, removing anything after _ if present, and convert to integer\n",
    "df[\"CHROM_INT\"] = df[\"CHROM\"].str.replace(\"chr\", \"\").str.split(\"_\", expand=True)[0].astype(int)"
   ]
  },
  {
   "cell_type": "code",
   "execution_count": 13,
   "metadata": {},
   "outputs": [
    {
     "data": {
      "text/plain": [
       "array([ 1, 10, 11, 12, 13, 14, 15, 16, 17, 18, 19,  2, 20, 21, 22,  3])"
      ]
     },
     "execution_count": 13,
     "metadata": {},
     "output_type": "execute_result"
    }
   ],
   "source": [
    "# show the unique chromosomes\n",
    "df[\"CHROM_INT\"].unique()\n"
   ]
  },
  {
   "cell_type": "code",
   "execution_count": 14,
   "metadata": {},
   "outputs": [
    {
     "data": {
      "text/plain": [
       "16"
      ]
     },
     "execution_count": 14,
     "metadata": {},
     "output_type": "execute_result"
    }
   ],
   "source": [
    "df[\"CHROM_INT\"].nunique()\n"
   ]
  },
  {
   "cell_type": "code",
   "execution_count": 15,
   "metadata": {},
   "outputs": [],
   "source": [
    "# remove the CHROM column\n",
    "df = df.drop(\"CHROM\", axis=1)"
   ]
  },
  {
   "cell_type": "code",
   "execution_count": 16,
   "metadata": {},
   "outputs": [],
   "source": [
    "# rename POS to Start\n",
    "df = df.rename(columns={\"POS\": \"Start\"})"
   ]
  },
  {
   "cell_type": "code",
   "execution_count": 17,
   "metadata": {},
   "outputs": [
    {
     "data": {
      "text/html": [
       "<div>\n",
       "<style scoped>\n",
       "    .dataframe tbody tr th:only-of-type {\n",
       "        vertical-align: middle;\n",
       "    }\n",
       "\n",
       "    .dataframe tbody tr th {\n",
       "        vertical-align: top;\n",
       "    }\n",
       "\n",
       "    .dataframe thead th {\n",
       "        text-align: right;\n",
       "    }\n",
       "</style>\n",
       "<table border=\"1\" class=\"dataframe\">\n",
       "  <thead>\n",
       "    <tr style=\"text-align: right;\">\n",
       "      <th></th>\n",
       "      <th>Start</th>\n",
       "      <th>REF</th>\n",
       "      <th>ALT</th>\n",
       "      <th>CHROM_INT</th>\n",
       "    </tr>\n",
       "  </thead>\n",
       "  <tbody>\n",
       "    <tr>\n",
       "      <th>1453344</th>\n",
       "      <td>1320613</td>\n",
       "      <td>C</td>\n",
       "      <td>G</td>\n",
       "      <td>16</td>\n",
       "    </tr>\n",
       "    <tr>\n",
       "      <th>2052798</th>\n",
       "      <td>71315651</td>\n",
       "      <td>C</td>\n",
       "      <td>T</td>\n",
       "      <td>2</td>\n",
       "    </tr>\n",
       "    <tr>\n",
       "      <th>1958883</th>\n",
       "      <td>13106598</td>\n",
       "      <td>C</td>\n",
       "      <td>T</td>\n",
       "      <td>2</td>\n",
       "    </tr>\n",
       "    <tr>\n",
       "      <th>2605005</th>\n",
       "      <td>23593143</td>\n",
       "      <td>G</td>\n",
       "      <td>T</td>\n",
       "      <td>3</td>\n",
       "    </tr>\n",
       "    <tr>\n",
       "      <th>2446975</th>\n",
       "      <td>21374062</td>\n",
       "      <td>G</td>\n",
       "      <td>C</td>\n",
       "      <td>21</td>\n",
       "    </tr>\n",
       "    <tr>\n",
       "      <th>1801784</th>\n",
       "      <td>62645605</td>\n",
       "      <td>T</td>\n",
       "      <td>TAGAGAG</td>\n",
       "      <td>18</td>\n",
       "    </tr>\n",
       "    <tr>\n",
       "      <th>507561</th>\n",
       "      <td>93295779</td>\n",
       "      <td>C</td>\n",
       "      <td>G</td>\n",
       "      <td>10</td>\n",
       "    </tr>\n",
       "    <tr>\n",
       "      <th>503533</th>\n",
       "      <td>90247350</td>\n",
       "      <td>T</td>\n",
       "      <td>A</td>\n",
       "      <td>10</td>\n",
       "    </tr>\n",
       "    <tr>\n",
       "      <th>907170</th>\n",
       "      <td>67867522</td>\n",
       "      <td>T</td>\n",
       "      <td>C</td>\n",
       "      <td>12</td>\n",
       "    </tr>\n",
       "    <tr>\n",
       "      <th>1299236</th>\n",
       "      <td>95539883</td>\n",
       "      <td>G</td>\n",
       "      <td>GTA</td>\n",
       "      <td>14</td>\n",
       "    </tr>\n",
       "  </tbody>\n",
       "</table>\n",
       "</div>"
      ],
      "text/plain": [
       "            Start REF      ALT  CHROM_INT\n",
       "1453344   1320613   C        G         16\n",
       "2052798  71315651   C        T          2\n",
       "1958883  13106598   C        T          2\n",
       "2605005  23593143   G        T          3\n",
       "2446975  21374062   G        C         21\n",
       "1801784  62645605   T  TAGAGAG         18\n",
       "507561   93295779   C        G         10\n",
       "503533   90247350   T        A         10\n",
       "907170   67867522   T        C         12\n",
       "1299236  95539883   G      GTA         14"
      ]
     },
     "execution_count": 17,
     "metadata": {},
     "output_type": "execute_result"
    }
   ],
   "source": [
    "df.sample(10)"
   ]
  },
  {
   "cell_type": "code",
   "execution_count": 18,
   "metadata": {},
   "outputs": [],
   "source": [
    "# add an End column, its value being Start plus length of REF minus 1\n",
    "df[\"End\"] = df[\"Start\"] + df[\"REF\"].str.len() - 1"
   ]
  },
  {
   "cell_type": "code",
   "execution_count": 19,
   "metadata": {},
   "outputs": [
    {
     "data": {
      "text/html": [
       "<div>\n",
       "<style scoped>\n",
       "    .dataframe tbody tr th:only-of-type {\n",
       "        vertical-align: middle;\n",
       "    }\n",
       "\n",
       "    .dataframe tbody tr th {\n",
       "        vertical-align: top;\n",
       "    }\n",
       "\n",
       "    .dataframe thead th {\n",
       "        text-align: right;\n",
       "    }\n",
       "</style>\n",
       "<table border=\"1\" class=\"dataframe\">\n",
       "  <thead>\n",
       "    <tr style=\"text-align: right;\">\n",
       "      <th></th>\n",
       "      <th>Start</th>\n",
       "      <th>REF</th>\n",
       "      <th>ALT</th>\n",
       "      <th>CHROM_INT</th>\n",
       "      <th>End</th>\n",
       "    </tr>\n",
       "  </thead>\n",
       "  <tbody>\n",
       "    <tr>\n",
       "      <th>0</th>\n",
       "      <td>15903</td>\n",
       "      <td>G</td>\n",
       "      <td>GC</td>\n",
       "      <td>1</td>\n",
       "      <td>15903</td>\n",
       "    </tr>\n",
       "    <tr>\n",
       "      <th>1</th>\n",
       "      <td>16288</td>\n",
       "      <td>C</td>\n",
       "      <td>G</td>\n",
       "      <td>1</td>\n",
       "      <td>16288</td>\n",
       "    </tr>\n",
       "    <tr>\n",
       "      <th>2</th>\n",
       "      <td>16298</td>\n",
       "      <td>C</td>\n",
       "      <td>T</td>\n",
       "      <td>1</td>\n",
       "      <td>16298</td>\n",
       "    </tr>\n",
       "    <tr>\n",
       "      <th>3</th>\n",
       "      <td>17365</td>\n",
       "      <td>C</td>\n",
       "      <td>G</td>\n",
       "      <td>1</td>\n",
       "      <td>17365</td>\n",
       "    </tr>\n",
       "    <tr>\n",
       "      <th>4</th>\n",
       "      <td>17614</td>\n",
       "      <td>G</td>\n",
       "      <td>A</td>\n",
       "      <td>1</td>\n",
       "      <td>17614</td>\n",
       "    </tr>\n",
       "  </tbody>\n",
       "</table>\n",
       "</div>"
      ],
      "text/plain": [
       "   Start REF ALT  CHROM_INT    End\n",
       "0  15903   G  GC          1  15903\n",
       "1  16288   C   G          1  16288\n",
       "2  16298   C   T          1  16298\n",
       "3  17365   C   G          1  17365\n",
       "4  17614   G   A          1  17614"
      ]
     },
     "execution_count": 19,
     "metadata": {},
     "output_type": "execute_result"
    }
   ],
   "source": [
    "# show the first 10 rows of the dataframe\n",
    "df.head()"
   ]
  },
  {
   "cell_type": "code",
   "execution_count": 20,
   "metadata": {},
   "outputs": [],
   "source": [
    "# reorder the columns to match the order of the example avinput file\n",
    "df = df[[\"CHROM_INT\", \"Start\", \"End\", \"REF\", \"ALT\"]]"
   ]
  },
  {
   "cell_type": "code",
   "execution_count": 21,
   "metadata": {},
   "outputs": [
    {
     "data": {
      "text/html": [
       "<div>\n",
       "<style scoped>\n",
       "    .dataframe tbody tr th:only-of-type {\n",
       "        vertical-align: middle;\n",
       "    }\n",
       "\n",
       "    .dataframe tbody tr th {\n",
       "        vertical-align: top;\n",
       "    }\n",
       "\n",
       "    .dataframe thead th {\n",
       "        text-align: right;\n",
       "    }\n",
       "</style>\n",
       "<table border=\"1\" class=\"dataframe\">\n",
       "  <thead>\n",
       "    <tr style=\"text-align: right;\">\n",
       "      <th></th>\n",
       "      <th>CHROM_INT</th>\n",
       "      <th>Start</th>\n",
       "      <th>End</th>\n",
       "      <th>REF</th>\n",
       "      <th>ALT</th>\n",
       "    </tr>\n",
       "  </thead>\n",
       "  <tbody>\n",
       "    <tr>\n",
       "      <th>872082</th>\n",
       "      <td>12</td>\n",
       "      <td>45041768</td>\n",
       "      <td>45041768</td>\n",
       "      <td>T</td>\n",
       "      <td>C</td>\n",
       "    </tr>\n",
       "    <tr>\n",
       "      <th>1638632</th>\n",
       "      <td>17</td>\n",
       "      <td>34440360</td>\n",
       "      <td>34440360</td>\n",
       "      <td>A</td>\n",
       "      <td>G</td>\n",
       "    </tr>\n",
       "    <tr>\n",
       "      <th>1403083</th>\n",
       "      <td>15</td>\n",
       "      <td>72137648</td>\n",
       "      <td>72137648</td>\n",
       "      <td>G</td>\n",
       "      <td>A</td>\n",
       "    </tr>\n",
       "    <tr>\n",
       "      <th>2539709</th>\n",
       "      <td>22</td>\n",
       "      <td>41564087</td>\n",
       "      <td>41564089</td>\n",
       "      <td>TAA</td>\n",
       "      <td>T</td>\n",
       "    </tr>\n",
       "    <tr>\n",
       "      <th>1306666</th>\n",
       "      <td>14</td>\n",
       "      <td>99591302</td>\n",
       "      <td>99591302</td>\n",
       "      <td>G</td>\n",
       "      <td>C</td>\n",
       "    </tr>\n",
       "    <tr>\n",
       "      <th>682269</th>\n",
       "      <td>11</td>\n",
       "      <td>66269799</td>\n",
       "      <td>66269799</td>\n",
       "      <td>A</td>\n",
       "      <td>G</td>\n",
       "    </tr>\n",
       "    <tr>\n",
       "      <th>2537614</th>\n",
       "      <td>22</td>\n",
       "      <td>39423345</td>\n",
       "      <td>39423345</td>\n",
       "      <td>T</td>\n",
       "      <td>C</td>\n",
       "    </tr>\n",
       "    <tr>\n",
       "      <th>1995784</th>\n",
       "      <td>2</td>\n",
       "      <td>36397044</td>\n",
       "      <td>36397044</td>\n",
       "      <td>G</td>\n",
       "      <td>A</td>\n",
       "    </tr>\n",
       "    <tr>\n",
       "      <th>2153369</th>\n",
       "      <td>2</td>\n",
       "      <td>146130496</td>\n",
       "      <td>146130496</td>\n",
       "      <td>G</td>\n",
       "      <td>T</td>\n",
       "    </tr>\n",
       "    <tr>\n",
       "      <th>2235956</th>\n",
       "      <td>2</td>\n",
       "      <td>203229032</td>\n",
       "      <td>203229032</td>\n",
       "      <td>T</td>\n",
       "      <td>C</td>\n",
       "    </tr>\n",
       "  </tbody>\n",
       "</table>\n",
       "</div>"
      ],
      "text/plain": [
       "         CHROM_INT      Start        End  REF ALT\n",
       "872082          12   45041768   45041768    T   C\n",
       "1638632         17   34440360   34440360    A   G\n",
       "1403083         15   72137648   72137648    G   A\n",
       "2539709         22   41564087   41564089  TAA   T\n",
       "1306666         14   99591302   99591302    G   C\n",
       "682269          11   66269799   66269799    A   G\n",
       "2537614         22   39423345   39423345    T   C\n",
       "1995784          2   36397044   36397044    G   A\n",
       "2153369          2  146130496  146130496    G   T\n",
       "2235956          2  203229032  203229032    T   C"
      ]
     },
     "execution_count": 21,
     "metadata": {},
     "output_type": "execute_result"
    }
   ],
   "source": [
    "df.sample(10)"
   ]
  },
  {
   "cell_type": "code",
   "execution_count": 22,
   "metadata": {},
   "outputs": [],
   "source": [
    "# save the dataframe to a avinput file\n",
    "df.to_csv(AVINPUT_FILE, sep=\"\\t\", index=False, header=False)\n"
   ]
  },
  {
   "attachments": {},
   "cell_type": "markdown",
   "metadata": {},
   "source": [
    "## Download annotation databases"
   ]
  },
  {
   "attachments": {},
   "cell_type": "markdown",
   "metadata": {},
   "source": [
    "only to be run once"
   ]
  },
  {
   "cell_type": "code",
   "execution_count": 23,
   "metadata": {},
   "outputs": [
    {
     "name": "stdout",
     "output_type": "stream",
     "text": [
      "NOTICE: Web-based checking to see whether ANNOVAR new version is available ... Done\n",
      "NOTICE: Downloading annotation database http://www.openbioinformatics.org/annovar/download/hg38_refGene.txt.gz ... OK\n",
      "NOTICE: Downloading annotation database http://www.openbioinformatics.org/annovar/download/hg38_refGeneMrna.fa.gz ... OK\n",
      "NOTICE: Downloading annotation database http://www.openbioinformatics.org/annovar/download/hg38_refGeneVersion.txt.gz ... OK\n",
      "NOTICE: Uncompressing downloaded files\n",
      "NOTICE: Finished downloading annotation files for hg38 build version, with files saved at the '/home/ma/Downloads/annovar/humandb' directory\n"
     ]
    }
   ],
   "source": [
    "# download database files\n",
    "# !perl $ANNOVAR_DIR/annotate_variation.pl -buildver hg38 -downdb -webfrom annovar refGene $ANNOVAR_DIR/humandb/"
   ]
  },
  {
   "cell_type": "code",
   "execution_count": 24,
   "metadata": {},
   "outputs": [
    {
     "name": "stdout",
     "output_type": "stream",
     "text": [
      "NOTICE: Web-based checking to see whether ANNOVAR new version is available ... Done\n",
      "NOTICE: Downloading annotation database http://hgdownload.cse.ucsc.edu/goldenPath/hg38/database/cytoBand.txt.gz ... OK\n",
      "NOTICE: Uncompressing downloaded files\n",
      "NOTICE: Finished downloading annotation files for hg38 build version, with files saved at the '/home/ma/Downloads/annovar/humandb' directory\n"
     ]
    }
   ],
   "source": [
    "# download database files\n",
    "# !perl $ANNOVAR_DIR/annotate_variation.pl -buildver hg38 -downdb cytoBand $ANNOVAR_DIR/humandb/"
   ]
  },
  {
   "cell_type": "code",
   "execution_count": 25,
   "metadata": {},
   "outputs": [
    {
     "name": "stdout",
     "output_type": "stream",
     "text": [
      "NOTICE: Web-based checking to see whether ANNOVAR new version is available ... Done\n",
      "NOTICE: Downloading annotation database http://www.openbioinformatics.org/annovar/download/hg38_exac03.txt.gz ... OK\n",
      "NOTICE: Downloading annotation database http://www.openbioinformatics.org/annovar/download/hg38_exac03.txt.idx.gz ... OK\n",
      "NOTICE: Uncompressing downloaded files\n",
      "NOTICE: Finished downloading annotation files for hg38 build version, with files saved at the '/home/ma/Downloads/annovar/humandb' directory\n"
     ]
    }
   ],
   "source": [
    "# download database files\n",
    "# !perl $ANNOVAR_DIR/annotate_variation.pl -buildver hg38 -downdb -webfrom annovar exac03 $ANNOVAR_DIR/humandb/"
   ]
  },
  {
   "cell_type": "code",
   "execution_count": 26,
   "metadata": {},
   "outputs": [
    {
     "name": "stdout",
     "output_type": "stream",
     "text": [
      "NOTICE: Web-based checking to see whether ANNOVAR new version is available ... Done\n",
      "NOTICE: Downloading annotation database http://www.openbioinformatics.org/annovar/download/hg38_avsnp147.txt.gz ... OK\n",
      "NOTICE: Downloading annotation database http://www.openbioinformatics.org/annovar/download/hg38_avsnp147.txt.idx.gz ... OK\n",
      "NOTICE: Uncompressing downloaded files\n",
      "NOTICE: Finished downloading annotation files for hg38 build version, with files saved at the '/home/ma/Downloads/annovar/humandb' directory\n"
     ]
    }
   ],
   "source": [
    "# download database files\n",
    "# !perl $ANNOVAR_DIR/annotate_variation.pl -buildver hg38 -downdb -webfrom annovar avsnp147 $ANNOVAR_DIR/humandb/"
   ]
  },
  {
   "cell_type": "code",
   "execution_count": 27,
   "metadata": {},
   "outputs": [
    {
     "name": "stdout",
     "output_type": "stream",
     "text": [
      "NOTICE: Web-based checking to see whether ANNOVAR new version is available ... Done\n",
      "NOTICE: Downloading annotation database http://www.openbioinformatics.org/annovar/download/hg38_dbnsfp30a.txt.gz ... OK\n",
      "NOTICE: Downloading annotation database http://www.openbioinformatics.org/annovar/download/hg38_dbnsfp30a.txt.idx.gz ... OK\n",
      "NOTICE: Uncompressing downloaded files\n",
      "NOTICE: Finished downloading annotation files for hg38 build version, with files saved at the '/home/ma/Downloads/annovar/humandb' directory\n"
     ]
    }
   ],
   "source": [
    "# download database files\n",
    "# !perl $ANNOVAR_DIR/annotate_variation.pl -buildver hg38 -downdb -webfrom annovar dbnsfp30a $ANNOVAR_DIR/humandb/"
   ]
  },
  {
   "cell_type": "code",
   "execution_count": 31,
   "metadata": {},
   "outputs": [
    {
     "name": "stdout",
     "output_type": "stream",
     "text": [
      "-rw-rw-r-- 1 ma ma  5.9G 12月  6  2019 /home/ma/Downloads/annovar/humandb/hg38_avsnp147.txt\n",
      "-rw-rw-r-- 1 ma ma  884M 12月  6  2019 /home/ma/Downloads/annovar/humandb/hg38_avsnp147.txt.idx\n",
      "-rw-rw-r-- 1 ma ma   54K 10月 29 12:15 /home/ma/Downloads/annovar/humandb/hg38_cytoBand.txt\n",
      "-rw-rw-r-- 1 ma ma   14G 12月  6  2019 /home/ma/Downloads/annovar/humandb/hg38_dbnsfp30a.txt\n",
      "-rw-rw-r-- 1 ma ma   18M 12月  6  2019 /home/ma/Downloads/annovar/humandb/hg38_dbnsfp30a.txt.idx\n",
      "-rw-rw-r-- 1 ma ma  600M 12月  6  2019 /home/ma/Downloads/annovar/humandb/hg38_exac03.txt\n",
      "-rw-rw-r-- 1 ma ma   23M 12月  6  2019 /home/ma/Downloads/annovar/humandb/hg38_exac03.txt.idx\n",
      "-rw-rw-r-- 1 ma ma  289M 8月   3  2022 /home/ma/Downloads/annovar/humandb/hg38_refGeneMrna.fa\n",
      "-rw-rw-r-- 1 ma ma   25M 8月   3  2022 /home/ma/Downloads/annovar/humandb/hg38_refGene.txt\n",
      "-rw-rw-r-- 1 ma ma 1011K 8月   3  2022 /home/ma/Downloads/annovar/humandb/hg38_refGeneVersion.txt\n"
     ]
    }
   ],
   "source": [
    "# show the hg38 database files\n",
    "!ls -lh $ANNOVAR_DIR/humandb/hg38_*"
   ]
  },
  {
   "attachments": {},
   "cell_type": "markdown",
   "metadata": {},
   "source": [
    "## Run ANNOVAR"
   ]
  },
  {
   "attachments": {},
   "cell_type": "markdown",
   "metadata": {},
   "source": [
    "TODO: fix output file path"
   ]
  },
  {
   "cell_type": "code",
   "execution_count": 33,
   "metadata": {},
   "outputs": [
    {
     "name": "stdout",
     "output_type": "stream",
     "text": [
      "-----------------------------------------------------------------\n",
      "NOTICE: Processing operation=gx protocol=refGene\n",
      "\n",
      "NOTICE: Running with system command <annotate_variation.pl -geneanno -buildver hg38 -dbtype refGene -outfile myanno.refGene -exonsort -nofirstcodondel /mnt/nas/wgs/geneseeq/BX231U0168/av.avinput /home/ma/Downloads/annovar/humandb/>\n",
      "NOTICE: Output files are written to myanno.refGene.variant_function, myanno.refGene.exonic_variant_function\n",
      "NOTICE: Reading gene annotation from /home/ma/Downloads/annovar/humandb/hg38_refGene.txt ... Done with 88819 transcripts (including 21511 without coding sequence annotation) for 28307 unique genes\n",
      "NOTICE: Processing next batch with 2591148 unique variants in 2591148 input lines\n",
      "NOTICE: Finished analyzing 1000000 query variants\n",
      "NOTICE: Finished analyzing 2000000 query variants\n",
      "NOTICE: Reading FASTA sequences from /home/ma/Downloads/annovar/humandb/hg38_refGeneMrna.fa ... Done with 17080 sequences\n",
      "WARNING: A total of 606 sequences will be ignored due to lack of correct ORF annotation\n",
      "\n",
      "---------------------------------------------------------------------------------------\n",
      "WARNING: 39 exonic SNPs have WRONG reference alleles specified in your input file!\n",
      "WARNING: An example input line is <16\t1791393\t1791393\tG\tA>\n",
      "WARNING: ANNOVAR can still annotate exonic_variant_function for the mutation correctly!\n",
      "WARNING: you may have used wrong -buildver, or specified incorrect reference allele, or used outdated mRNA FASTA file!\n",
      "---------------------------------------------------------------------------------------\n",
      "\n",
      "NOTICE: Variants with invalid input format are written to myanno.refGene.invalid_input\n",
      "\n",
      "NOTICE: Running with system command <coding_change.pl  myanno.refGene.exonic_variant_function.orig /home/ma/Downloads/annovar/humandb//hg38_refGene.txt /home/ma/Downloads/annovar/humandb//hg38_refGeneMrna.fa -alltranscript -out myanno.refGene.fa -newevf myanno.refGene.exonic_variant_function>\n",
      "NOTICE: The xrefkey is set as Xref due to lack of header line in xreffile\n",
      "NOTICE: Finished reading 3432 cross references (each with 1 fields) from /home/ma/Downloads/annovar/example/gene_xref.txt\n",
      "-----------------------------------------------------------------\n",
      "NOTICE: Processing operation=r protocol=cytoBand\n",
      "\n",
      "NOTICE: Running with system command <annotate_variation.pl -regionanno -dbtype cytoBand -buildver hg38 -outfile myanno /mnt/nas/wgs/geneseeq/BX231U0168/av.avinput /home/ma/Downloads/annovar/humandb/>\n",
      "NOTICE: Output file is written to myanno.hg38_cytoBand\n",
      "NOTICE: Reading annotation database /home/ma/Downloads/annovar/humandb/hg38_cytoBand.txt ... Done with 1549 regions\n",
      "NOTICE: Finished processing 1000000 variants in queryfile\n",
      "NOTICE: Finished processing 2000000 variants in queryfile\n",
      "NOTICE: Finished region-based annotation on 2591148 genetic variants\n",
      "NOTICE: Variants with invalid input format are written to myanno.invalid_input\n",
      "-----------------------------------------------------------------\n",
      "NOTICE: Processing operation=f protocol=exac03\n",
      "NOTICE: Finished reading 8 column headers for '-dbtype exac03'\n",
      "\n",
      "NOTICE: Running system command <annotate_variation.pl -filter -dbtype exac03 -buildver hg38 -outfile myanno /mnt/nas/wgs/geneseeq/BX231U0168/av.avinput /home/ma/Downloads/annovar/humandb/ -otherinfo>\n",
      "NOTICE: Output file with variants matching filtering criteria is written to myanno.hg38_exac03_dropped, and output file with other variants is written to myanno.hg38_exac03_filtered\n",
      "NOTICE: Processing next batch with 2591085 unique variants in 2628245 input lines\n",
      "NOTICE: Database index loaded. Total number of bins is 749044 and the number of bins to be scanned is 43569\n",
      "NOTICE: Scanning filter database /home/ma/Downloads/annovar/humandb/hg38_exac03.txt...Done\n",
      "NOTICE: Variants with invalid input format are written to myanno.invalid_input\n",
      "-----------------------------------------------------------------\n",
      "NOTICE: Processing operation=f protocol=avsnp147\n",
      "\n",
      "NOTICE: Running system command <annotate_variation.pl -filter -dbtype avsnp147 -buildver hg38 -outfile myanno /mnt/nas/wgs/geneseeq/BX231U0168/av.avinput /home/ma/Downloads/annovar/humandb/>\n",
      "NOTICE: Output file with variants matching filtering criteria is written to myanno.hg38_avsnp147_dropped, and output file with other variants is written to myanno.hg38_avsnp147_filtered\n",
      "NOTICE: Processing next batch with 2591085 unique variants in 2628245 input lines\n",
      "NOTICE: Database index loaded. Total number of bins is 27843692 and the number of bins to be scanned is 2106208\n",
      "NOTICE: Scanning filter database /home/ma/Downloads/annovar/humandb/hg38_avsnp147.txt...Done\n",
      "NOTICE: Variants with invalid input format are written to myanno.invalid_input\n",
      "-----------------------------------------------------------------\n",
      "NOTICE: Processing operation=f protocol=dbnsfp30a\n",
      "NOTICE: Finished reading 34 column headers for '-dbtype dbnsfp30a'\n",
      "\n",
      "NOTICE: Running system command <annotate_variation.pl -filter -dbtype dbnsfp30a -buildver hg38 -outfile myanno /mnt/nas/wgs/geneseeq/BX231U0168/av.avinput /home/ma/Downloads/annovar/humandb/ -otherinfo>\n",
      "NOTICE: Output file with variants matching filtering criteria is written to myanno.hg38_dbnsfp30a_dropped, and output file with other variants is written to myanno.hg38_dbnsfp30a_filtered\n",
      "NOTICE: Processing next batch with 2591085 unique variants in 2628245 input lines\n",
      "NOTICE: Database index loaded. Total number of bins is 549138 and the number of bins to be scanned is 27714\n",
      "NOTICE: Scanning filter database /home/ma/Downloads/annovar/humandb/hg38_dbnsfp30a.txt...Done\n",
      "NOTICE: Variants with invalid input format are written to myanno.invalid_input\n",
      "-----------------------------------------------------------------\n",
      "NOTICE: Multianno output file is written to myanno.hg38_multianno.csv\n"
     ]
    }
   ],
   "source": [
    "# annotate the avinput file\n",
    "!perl $ANNOVAR_DIR/table_annovar.pl $AVINPUT_FILE $ANNOVAR_DIR/humandb/ -buildver hg38  -out myanno -remove  -protocol refGene,cytoBand,exac03,avsnp147,dbnsfp30a -operation gx,r,f,f,f -nastring . -csvout -polish -xref $ANNOVAR_DIR/example/gene_xref.txt"
   ]
  },
  {
   "attachments": {},
   "cell_type": "markdown",
   "metadata": {},
   "source": [
    "## Interpret the results"
   ]
  }
 ],
 "metadata": {
  "kernelspec": {
   "display_name": "wgs",
   "language": "python",
   "name": "python3"
  },
  "language_info": {
   "codemirror_mode": {
    "name": "ipython",
    "version": 3
   },
   "file_extension": ".py",
   "mimetype": "text/x-python",
   "name": "python",
   "nbconvert_exporter": "python",
   "pygments_lexer": "ipython3",
   "version": "3.8.15"
  },
  "orig_nbformat": 4
 },
 "nbformat": 4,
 "nbformat_minor": 2
}
