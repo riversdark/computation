{
 "cells": [
  {
   "cell_type": "raw",
   "metadata": {},
   "source": [
    "---\n",
    "title: \"pyro_cov\"\n",
    "subtitle: \"Pyro models of SARS-CoV-2 variants\"\n",
    "format:\n",
    "  html:\n",
    "    code-fold: false\n",
    "---"
   ]
  },
  {
   "attachments": {},
   "cell_type": "markdown",
   "metadata": {},
   "source": [
    "![](./img/pyro_cov.png)\n",
    "\n",
    "RSV and SARS-CoV-2  using Pyro"
   ]
  },
  {
   "attachments": {},
   "cell_type": "markdown",
   "metadata": {},
   "source": [
    "nextstrain offers a nice way to download data from GISAID. \n",
    "\n",
    "usher is a tool to build a tree from a set of sequences. \n",
    "\n",
    "`cov-lineages/pango-designation` suggests new lineages that should be added to the current scheme.\n",
    "\n",
    "`cov-lineages/pangoLEARN` is a Store of the trained model for pangolin to access.\n",
    "This repository is deprecated and only for use with pangolin 2.0 and 3.0. For latest pangolin data models compatible with pangolin 4.0, use `cov-lineages/pangolin-data`, the repo for storing latest model, protobuf, designation hash and alias files for pangolin assignments\n",
    "\n",
    "`CSSEGISandData/COVID-19` is a repository with Novel Coronavirus (COVID-19) Cases, provided by JHU CSSE.\n",
    "\n",
    "`nextstrain/nextclade` is a tool for Viral genome alignment, mutation calling, clade assignment, quality checks and phylogenetic placement\n",
    "\n"
   ]
  },
  {
   "attachments": {},
   "cell_type": "markdown",
   "metadata": {},
   "source": [
    "Manhattan plot of the mutation rates for the SARS-CoV-2 genome. The plot shows the log10 of the p-values for the null hypothesis that the mutation rate is zero. The plot is based on the results of the analysis of 6.4 million SARS-CoV-2 genomes. The plot shows that the mutation rate is significantly different from zero for 11 of the 29 genes in the SARS-CoV-2 genome. The genes with the highest mutation rates are ORF1ab, N, and S. The genes with the lowest mutation rates are E, M, and NSP3. The plot also shows that the mutation rate is significantly different from zero for the entire genome. The plot is based on the results of the analysis of 6.4 million SARS-CoV-2 genomes. The plot shows that the mutation rate is significantly different from zero for 11 of the 29 genes in the SARS-CoV-2 genome. The genes with the highest mutation rates are ORF1ab, N, and S. The genes with the lowest mutation rates are E, M, and NSP3. The plot also shows that the mutation rate is significantly different from zero for the entire genome."
   ]
  },
  {
   "cell_type": "code",
   "execution_count": null,
   "metadata": {},
   "outputs": [],
   "source": [
    "import os\n",
    "import sys\n",
    "\n",
    "REPO_ADDRESS = \"https://github.com/broadinstitute/pyro-cov.git\"\n",
    "REPO_NAME = \"pyro-cov\"\n",
    "\n",
    "# Download the repo if it doesn't exist\n",
    "if not os.path.exists(REPO_NAME):\n",
    "    !git clone $REPO_ADDRESS\n",
    "\n",
    "# change to the repo directory\n",
    "os.chdir(REPO_NAME)"
   ]
  },
  {
   "cell_type": "code",
   "execution_count": null,
   "metadata": {},
   "outputs": [],
   "source": [
    "!pip install -e ."
   ]
  },
  {
   "attachments": {},
   "cell_type": "markdown",
   "metadata": {},
   "source": [
    "Download data"
   ]
  },
  {
   "cell_type": "code",
   "execution_count": null,
   "metadata": {},
   "outputs": [],
   "source": [
    "# download the data\n",
    "!make update"
   ]
  },
  {
   "attachments": {},
   "cell_type": "markdown",
   "metadata": {},
   "source": [
    "Preprocess data\n",
    "\n",
    "This takes under an hour.\n"
   ]
  },
  {
   "cell_type": "code",
   "execution_count": null,
   "metadata": {},
   "outputs": [],
   "source": [
    "!make preprocess"
   ]
  },
  {
   "attachments": {},
   "cell_type": "markdown",
   "metadata": {},
   "source": [
    "analyze data"
   ]
  },
  {
   "cell_type": "code",
   "execution_count": null,
   "metadata": {},
   "outputs": [],
   "source": [
    "# analyze data\n",
    "!python scripts/mutrans.py --vary-gene"
   ]
  },
  {
   "cell_type": "code",
   "execution_count": null,
   "metadata": {},
   "outputs": [],
   "source": []
  }
 ],
 "metadata": {
  "kernelspec": {
   "display_name": "torch",
   "language": "python",
   "name": "python3"
  },
  "language_info": {
   "codemirror_mode": {
    "name": "ipython",
    "version": 3
   },
   "file_extension": ".py",
   "mimetype": "text/x-python",
   "name": "python",
   "nbconvert_exporter": "python",
   "pygments_lexer": "ipython3",
   "version": "3.8.15 | packaged by conda-forge | (default, Nov 22 2022, 08:49:35) \n[GCC 10.4.0]"
  },
  "orig_nbformat": 4,
  "vscode": {
   "interpreter": {
    "hash": "4b8fcd9478f8138cd5cee153c82dd38681a8ef5744468ec3c237d2dd400366a4"
   }
  }
 },
 "nbformat": 4,
 "nbformat_minor": 2
}
