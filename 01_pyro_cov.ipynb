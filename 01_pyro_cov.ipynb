{
 "cells": [
  {
   "attachments": {},
   "cell_type": "markdown",
   "metadata": {},
   "source": [
    "# RSV and SARS-CoV-2 mutation rates analysis using Pyro\n",
    "\n",
    "[GitHub](https://github.com/broadinstitute/pyro-cov)\n",
    "\n",
    "![](https://github.com/broadinstitute/pyro-cov/blob/master/paper/schematic_overview.png)\n",
    "\n"
   ]
  },
  {
   "cell_type": "code",
   "execution_count": 4,
   "metadata": {},
   "outputs": [
    {
     "name": "stdout",
     "output_type": "stream",
     "text": [
      "Cloning into 'pyro-cov'...\n",
      "remote: Enumerating objects: 6340, done.\u001b[K\n",
      "remote: Counting objects: 100% (275/275), done.\u001b[K\n",
      "remote: Compressing objects: 100% (157/157), done.\u001b[K\n",
      "remote: Total 6340 (delta 119), reused 238 (delta 94), pack-reused 6065\u001b[K\n",
      "Receiving objects: 100% (6340/6340), 780.69 MiB | 17.63 MiB/s, done.\n",
      "Resolving deltas: 100% (3830/3830), done.\n"
     ]
    }
   ],
   "source": [
    "import os\n",
    "import sys\n",
    "\n",
    "REPO_ADDRESS = \"https://github.com/broadinstitute/pyro-cov.git\"\n",
    "REPO_NAME = \"pyro-cov\"\n",
    "\n",
    "# Download the repo if it doesn't exist\n",
    "if not os.path.exists(REPO_NAME):\n",
    "    !git clone $REPO_ADDRESS\n"
   ]
  },
  {
   "cell_type": "code",
   "execution_count": null,
   "metadata": {},
   "outputs": [],
   "source": []
  }
 ],
 "metadata": {
  "kernelspec": {
   "display_name": "insight",
   "language": "python",
   "name": "python3"
  },
  "language_info": {
   "codemirror_mode": {
    "name": "ipython",
    "version": 3
   },
   "file_extension": ".py",
   "mimetype": "text/x-python",
   "name": "python",
   "nbconvert_exporter": "python",
   "pygments_lexer": "ipython3",
   "version": "3.8.13 | packaged by conda-forge | (default, Mar 25 2022, 06:04:10) \n[GCC 10.3.0]"
  },
  "orig_nbformat": 4,
  "vscode": {
   "interpreter": {
    "hash": "f59c4ca07c2374b44167151294cd9c03bd47ea9c6258365aa14a47b95582240c"
   }
  }
 },
 "nbformat": 4,
 "nbformat_minor": 2
}
